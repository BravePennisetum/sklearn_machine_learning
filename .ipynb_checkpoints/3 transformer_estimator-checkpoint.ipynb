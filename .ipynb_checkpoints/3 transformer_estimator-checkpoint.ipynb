{
 "cells": [
  {
   "cell_type": "markdown",
   "metadata": {},
   "source": [
    "### sklearn转换器和估计器"
   ]
  },
  {
   "cell_type": "markdown",
   "metadata": {},
   "source": [
    "** 转换器 - 特征工程的父类 **  \n",
    "1 实例化 (实例化的是一个转换器类(Transformer))  \n",
    "2 调用fit_transform  \n",
    "      \n",
    "例如:  \n",
    "标准化：  \n",
    "(x - mean) / std  \n",
    "fit_transform()分为两步,fit和transform,fit是计算公式中变量的值,transform是将fit算好的变量的值代入公式中  \n",
    "fit()           计算变量值.  每一列的平均值、标准差  \n",
    "transform()     将变量带入公式.  (x - mean) / std进行最终的转换  \n",
    "\n",
    "如:  \n",
    "transfer = DictVectorizer() # 实例化一个转换器  \n",
    "transfer.fit_transform() # 调用fit_transform()方法  "
   ]
  },
  {
   "cell_type": "markdown",
   "metadata": {},
   "source": [
    "**估计器(sklearn机器学习算法的实现)**  \n",
    "\n",
    "1 实例化一个estimator  \n",
    "2 estimator.fit(x_train, y_train) 计算  \n",
    "—— 调用完毕，模型生成  \n",
    "3 模型评估：  \n",
    "1）直接比对真实值和预测值  \n",
    "    y_predict = estimator.predict(x_test)  \n",
    "    y_test == y_predict  \n",
    "2）计算准确率  \n",
    "    accuracy = estimator.score(x_test, y_test)  \n",
    "\n",
    "如:  \n",
    "estimator = SVR()  \n",
    "estimator.fit(x_train,y_train)  \n",
    "prediction = predict(x_test)  \n",
    "estimator.score(x_test,y_test)  "
   ]
  },
  {
   "cell_type": "markdown",
   "metadata": {},
   "source": []
  },
  {
   "cell_type": "markdown",
   "metadata": {},
   "source": []
  }
 ],
 "metadata": {
  "kernelspec": {
   "display_name": "Python 3",
   "language": "python",
   "name": "python3"
  },
  "language_info": {
   "codemirror_mode": {
    "name": "ipython",
    "version": 3
   },
   "file_extension": ".py",
   "mimetype": "text/x-python",
   "name": "python",
   "nbconvert_exporter": "python",
   "pygments_lexer": "ipython3",
   "version": "3.6.5"
  }
 },
 "nbformat": 4,
 "nbformat_minor": 2
}
